{
 "cells": [
  {
   "cell_type": "markdown",
   "metadata": {
    "id": "p6boJKK_zG8e"
   },
   "source": [
    "### Final Project\n",
    "\n"
   ]
  },
  {
   "cell_type": "code",
   "execution_count": 8,
   "metadata": {
    "id": "TBxAdua9zG8i"
   },
   "outputs": [],
   "source": [
    "import pandas as pd\n",
    "# import numpy as np"
   ]
  },
  {
   "cell_type": "code",
   "execution_count": 2,
   "metadata": {
    "colab": {
     "base_uri": "https://localhost:8080/"
    },
    "id": "9_LUc9J5zG8q",
    "outputId": "03ded4c2-9cb3-456c-83ff-f3de20326ae0"
   },
   "outputs": [
    {
     "name": "stdout",
     "output_type": "stream",
     "text": [
      "(541909, 8)\n"
     ]
    }
   ],
   "source": [
    "# Loading the Data\n",
    "data = pd.read_excel(r'http://archive.ics.uci.edu/ml/machine-learning-databases/00352/Online%20Retail.xlsx')\n",
    "print(data.shape)"
   ]
  },
  {
   "cell_type": "code",
   "execution_count": 3,
   "metadata": {
    "colab": {
     "base_uri": "https://localhost:8080/"
    },
    "id": "P1GrM5sc0zcs",
    "outputId": "735a400d-b036-47ed-e0ba-4ba1f1169d4e"
   },
   "outputs": [
    {
     "name": "stdout",
     "output_type": "stream",
     "text": [
      "Index(['InvoiceNo', 'StockCode', 'Description', 'Quantity', 'InvoiceDate',\n",
      "       'UnitPrice', 'CustomerID', 'Country'],\n",
      "      dtype='object')\n"
     ]
    }
   ],
   "source": [
    "# print columns\n",
    "print(data.columns)"
   ]
  },
  {
   "cell_type": "code",
   "execution_count": 14,
   "metadata": {
    "id": "8YISZc8X02ry"
   },
   "outputs": [],
   "source": [
    "def clean_data(data):\n",
    "  # Fill in missing values.\n",
    "  \n",
    "    # Fill in the missing values with the value before for all columns we found have missing values \n",
    "    # since we have no idea about what the exact value is\n",
    "    print(data.isnull().sum()) \n",
    "    print(\"\\n\")\n",
    "    # data[\"Description\"] = data[\"Description\"].fillna(method=\"ffill\")\n",
    "    # delete those that don't have customer ID\n",
    "    data = data[~data[\"CustomerID\"].isnull()]\n",
    "    data['CustomerID'] = data['CustomerID'].astype(int)\n",
    "\n",
    "  # Identify outliers and smooth out noisy data.\n",
    "  \n",
    "    # The description of the two attributes below having negaitive values which does not have realistic meaning for\n",
    "    # quantity and unit price \n",
    "    print(data[\"Quantity\"].describe())\n",
    "    print(\"\\n\")\n",
    "    print(data[\"UnitPrice\"].describe())\n",
    "    print(\"\\n\")\n",
    "  \n",
    "    # Remove them which considered as outlier\n",
    "    data=data[~(data[\"Quantity\"]<=0)]\n",
    "    data=data[~(data[\"UnitPrice\"]<=0)]\n",
    "    \n",
    "    # Also need to remove some outliers based on the unrealistic unit price and quantity\n",
    "    for col in ['UnitPrice','Quantity']:\n",
    "      Q1 = data[col].quantile(0.25)\n",
    "      Q3 = data[col].quantile(0.75)\n",
    "      IQR = Q3 - Q1\n",
    "      data = data[(data[col] >= Q1 - 1.5*IQR) & (data[col] <= Q3 + 1.5*IQR)]\n",
    "    print(data[\"Quantity\"].describe())\n",
    "    print(\"\\n\")\n",
    "    print(data[\"UnitPrice\"].describe())\n",
    "  \n",
    "    return(data)"
   ]
  },
  {
   "cell_type": "code",
   "execution_count": 15,
   "metadata": {},
   "outputs": [
    {
     "name": "stdout",
     "output_type": "stream",
     "text": [
      "InvoiceNo      0\n",
      "StockCode      0\n",
      "Description    0\n",
      "Quantity       0\n",
      "InvoiceDate    0\n",
      "UnitPrice      0\n",
      "CustomerID     0\n",
      "Country        0\n",
      "dtype: int64\n",
      "\n",
      "\n",
      "count    356665.000000\n",
      "mean         14.073102\n",
      "std         189.339850\n",
      "min           1.000000\n",
      "25%           2.000000\n",
      "50%           6.000000\n",
      "75%          12.000000\n",
      "max       80995.000000\n",
      "Name: Quantity, dtype: float64\n",
      "\n",
      "\n",
      "count    356665.000000\n",
      "mean          2.045726\n",
      "std           1.406024\n",
      "min           0.001000\n",
      "25%           0.850000\n",
      "50%           1.650000\n",
      "75%           2.950000\n",
      "max           6.000000\n",
      "Name: UnitPrice, dtype: float64\n",
      "\n",
      "\n",
      "count    331442.000000\n",
      "mean          7.538975\n",
      "std           6.794875\n",
      "min           1.000000\n",
      "25%           2.000000\n",
      "50%           6.000000\n",
      "75%          12.000000\n",
      "max          27.000000\n",
      "Name: Quantity, dtype: float64\n",
      "\n",
      "\n",
      "count    331442.000000\n",
      "mean          2.099396\n",
      "std           1.413986\n",
      "min           0.001000\n",
      "25%           1.250000\n",
      "50%           1.650000\n",
      "75%           2.950000\n",
      "max           6.000000\n",
      "Name: UnitPrice, dtype: float64\n"
     ]
    }
   ],
   "source": [
    "# Clean the data\n",
    "data = clean_data(data)"
   ]
  },
  {
   "cell_type": "code",
   "execution_count": 16,
   "metadata": {},
   "outputs": [
    {
     "name": "stdout",
     "output_type": "stream",
     "text": [
      "(331442, 8)\n",
      "InvoiceNo              object\n",
      "StockCode              object\n",
      "Description            object\n",
      "Quantity                int64\n",
      "InvoiceDate    datetime64[ns]\n",
      "UnitPrice             float64\n",
      "CustomerID              int64\n",
      "Country                object\n",
      "dtype: object\n"
     ]
    }
   ],
   "source": [
    "print(data.shape)\n",
    "print(data.dtypes)"
   ]
  },
  {
   "cell_type": "code",
   "execution_count": 17,
   "metadata": {},
   "outputs": [],
   "source": [
    "# Export the cleaned data\n",
    "data.to_excel(r'Online Retail After Cleaning.xlsx', index = False)"
   ]
  },
  {
   "cell_type": "code",
   "execution_count": null,
   "metadata": {},
   "outputs": [],
   "source": []
  }
 ],
 "metadata": {
  "colab": {
   "collapsed_sections": [],
   "name": "Assignment 2.ipynb",
   "provenance": []
  },
  "hide_input": false,
  "kernelspec": {
   "display_name": "Python 3",
   "language": "python",
   "name": "python3"
  },
  "language_info": {
   "codemirror_mode": {
    "name": "ipython",
    "version": 3
   },
   "file_extension": ".py",
   "mimetype": "text/x-python",
   "name": "python",
   "nbconvert_exporter": "python",
   "pygments_lexer": "ipython3",
   "version": "3.9.7"
  },
  "latex_envs": {
   "LaTeX_envs_menu_present": true,
   "autoclose": false,
   "autocomplete": true,
   "bibliofile": "biblio.bib",
   "cite_by": "apalike",
   "current_citInitial": 1,
   "eqLabelWithNumbers": true,
   "eqNumInitial": 1,
   "hotkeys": {
    "equation": "Ctrl-E",
    "itemize": "Ctrl-I"
   },
   "labels_anchors": false,
   "latex_user_defs": false,
   "report_style_numbering": false,
   "user_envs_cfg": false
  },
  "nbTranslate": {
   "displayLangs": [
    "*"
   ],
   "hotkey": "alt-t",
   "langInMainMenu": true,
   "sourceLang": "en",
   "targetLang": "fr",
   "useGoogleTranslate": true
  },
  "toc": {
   "base_numbering": 1,
   "nav_menu": {},
   "number_sections": true,
   "sideBar": true,
   "skip_h1_title": false,
   "title_cell": "Table of Contents",
   "title_sidebar": "Contents",
   "toc_cell": false,
   "toc_position": {},
   "toc_section_display": true,
   "toc_window_display": false
  },
  "varInspector": {
   "cols": {
    "lenName": 16,
    "lenType": 16,
    "lenVar": 40
   },
   "kernels_config": {
    "python": {
     "delete_cmd_postfix": "",
     "delete_cmd_prefix": "del ",
     "library": "var_list.py",
     "varRefreshCmd": "print(var_dic_list())"
    },
    "r": {
     "delete_cmd_postfix": ") ",
     "delete_cmd_prefix": "rm(",
     "library": "var_list.r",
     "varRefreshCmd": "cat(var_dic_list()) "
    }
   },
   "types_to_exclude": [
    "module",
    "function",
    "builtin_function_or_method",
    "instance",
    "_Feature"
   ],
   "window_display": false
  }
 },
 "nbformat": 4,
 "nbformat_minor": 1
}

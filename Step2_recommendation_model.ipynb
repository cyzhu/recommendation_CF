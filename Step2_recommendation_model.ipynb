{
 "cells": [
  {
   "cell_type": "markdown",
   "metadata": {},
   "source": [
    "### Final Project\n"
   ]
  },
  {
   "cell_type": "code",
   "execution_count": 1,
   "metadata": {},
   "outputs": [],
   "source": [
    "import pandas as pd\n",
    "pd.set_option('display.max_colwidth', None)\n",
    "import scipy.sparse as sparse\n",
    "import numpy as np\n",
    "\n",
    "from pandas.api.types import CategoricalDtype\n",
    "import random\n",
    "import implicit\n",
    "from sklearn import metrics"
   ]
  },
  {
   "cell_type": "markdown",
   "metadata": {},
   "source": [
    "## Helper functions"
   ]
  },
  {
   "cell_type": "code",
   "execution_count": 2,
   "metadata": {},
   "outputs": [],
   "source": [
    "def train_test_split(ratings, pct_test = 0.2):\n",
    "    '''\n",
    "    This function takes the original user-item matrix and \"mask\" a percentage of the original ratings where a\n",
    "    user-item interaction has taken place for use as a test set. The returned parameter test_set will contain all the original ratings, \n",
    "    while the training set replaces the specified percentage of them with a zero in the original ratings matrix. \n",
    "    \n",
    "    parameters: \n",
    "    \n",
    "        ratings - the original ratings matrix from which you want to generate a train/test set. Test is just a complete\n",
    "        copy of the original set. This is in the form of a sparse csr_matrix. \n",
    "        \n",
    "        pct_test - The percentage of user-item interactions where an interaction took place that you want to mask in the \n",
    "        training set for later comparison to the test set, which contains all of the original ratings. \n",
    "    \n",
    "    returns:\n",
    "    \n",
    "        training_set - The altered version of the original data with a certain percentage of the user-item pairs \n",
    "        that originally had interaction set back to zero.\n",
    "        \n",
    "        test_set - A copy of the original ratings matrix, unaltered, so it can be used to see how the rank order \n",
    "        compares with the actual interactions.\n",
    "        \n",
    "        user_inds - From the randomly selected user-item indices, which user rows were altered in the training data.\n",
    "        This will be necessary later when evaluating the performance via AUC.\n",
    "    '''\n",
    "    test_set = ratings.copy() # Make a copy of the original set to be the test set. \n",
    "    test_set[test_set != 0] = 1 # Store the test set as a binary preference matrix\n",
    "    training_set = ratings.copy() # Make a copy of the original data we can alter as our training set. \n",
    "    nonzero_inds = training_set.nonzero() # Find the indices in the ratings data where an interaction exists\n",
    "    nonzero_pairs = list(zip(nonzero_inds[0], nonzero_inds[1])) # Zip these pairs together of user,item index into list\n",
    "    random.seed(0) # Set the random seed to zero for reproducibility\n",
    "    num_samples = int(np.ceil(pct_test*len(nonzero_pairs))) # Round the number of samples needed to the nearest integer\n",
    "    samples = random.sample(nonzero_pairs, num_samples) # Sample a random number of user-item pairs without replacement\n",
    "    user_inds = [index[0] for index in samples] # Get the user row indices\n",
    "    item_inds = [index[1] for index in samples] # Get the item column indices\n",
    "    training_set[user_inds, item_inds] = 0 # Assign all of the randomly chosen user-item pairs to zero\n",
    "    training_set.eliminate_zeros() # Get rid of zeros in sparse array storage after update to save space\n",
    "    return training_set, test_set, list(set(user_inds)) # Output the unique list of user rows that were altered  \n",
    "\n",
    "# evaluate the model\n",
    "def auc_score(predictions, test):\n",
    "    '''\n",
    "    This simple function will output the area under the curve using sklearn's metrics. \n",
    "    \n",
    "    parameters:\n",
    "    \n",
    "        - predictions: your prediction output\n",
    "        \n",
    "        - test: the actual target result you are comparing to\n",
    "    \n",
    "    returns:\n",
    "    \n",
    "        - AUC (area under the Receiver Operating Characterisic curve)\n",
    "    '''\n",
    "    fpr, tpr, thresholds = metrics.roc_curve(test, predictions)\n",
    "    return metrics.auc(fpr, tpr)  \n",
    "\n",
    "def calc_mean_metrics(training_set, altered_users, predictions, test_set, func):\n",
    "    '''\n",
    "    This function will calculate the mean AUC by user for any user that had their user-item matrix altered. \n",
    "    \n",
    "    parameters:\n",
    "    \n",
    "        training_set - The training set resulting from train_test_split, where a certain percentage of the original\n",
    "        user/item interactions are reset to zero to hide them from the model \n",
    "        \n",
    "        altered_users - The indices of the users where at least one user/item pair was altered from train_test_split function        \n",
    "        \n",
    "        predictions - The matrix of your predicted ratings for each user/item pair as output from the implicit MF.\n",
    "        These should be stored in a list, with user vectors as item zero and item vectors as item one. \n",
    "        \n",
    "        test_set - The test set constucted earlier from train_test_split function\n",
    "\n",
    "        func - The metrics function\n",
    "    \n",
    "    returns:\n",
    "    \n",
    "        The mean AUC (area under the Receiver Operator Characteristic curve) of the test set only on user-item interactions\n",
    "    there were originally zero to test ranking ability in addition to the most popular items as a benchmark.\n",
    "    '''\n",
    "    \n",
    "    store_auc = [] # An empty list to store the AUC for each user that had an item removed from the training set\n",
    "    popularity_auc = [] # To store popular AUC scores\n",
    "    pop_items = np.array(test_set.sum(axis = 0)).reshape(-1) # Get sum of item iteractions to find most popular\n",
    "    item_vecs = predictions[1]\n",
    "    for user in altered_users: # Iterate through each user that had an item altered\n",
    "        training_row = training_set[user,:].toarray().reshape(-1) # Get the training set row\n",
    "        zero_inds = np.where(training_row == 0) # Find where the interaction had not yet occurred\n",
    "        # Get the predicted values based on our user/item vectors\n",
    "        user_vec = predictions[0][user,:]\n",
    "        pred = user_vec.dot(item_vecs).toarray()[0,zero_inds].reshape(-1)\n",
    "        # Get only the items that were originally zero\n",
    "        # Select all ratings from the MF prediction for this user that originally had no iteraction\n",
    "        actual = test_set[user,:].toarray()[0,zero_inds].reshape(-1) \n",
    "        # Select the binarized yes/no interaction pairs from the original full data\n",
    "        # that align with the same pairs in training \n",
    "        pop = pop_items[zero_inds] # Get the item popularity for our chosen items\n",
    "        store_auc.append(func(pred, actual)) # Calculate AUC for the given user and store\n",
    "        popularity_auc.append(func(pop, actual)) # Calculate AUC using most popular and score\n",
    "    # End users iteration\n",
    "\n",
    "    return float('%.3f'%np.mean(store_auc)), float('%.3f'%np.mean(popularity_auc)) ,float('%.3f'%np.median(store_auc)), float('%.3f'%np.median(popularity_auc)) \n",
    "    # Return the mean AUC rounded to three decimal places for both test and popularity benchmark\n",
    "\n",
    "def get_items_purchased(customer_id, user_item_train, customers_list, products_list, item_lookup):\n",
    "    '''\n",
    "    This function retrieves which items have been already purchased by a specific user in the training set. \n",
    "    \n",
    "    parameters: \n",
    "    \n",
    "        customer_id - Input the customer's id number that you want to see prior purchases of at least once\n",
    "        \n",
    "        user_item_train - The initial ratings training set used (without weights applied)\n",
    "        \n",
    "        customers_list - The array of customers used in the ratings matrix\n",
    "        \n",
    "        products_list - The array of products used in the ratings matrix\n",
    "        \n",
    "        item_lookup - A simple pandas dataframe of the unique product ID/product descriptions available\n",
    "    \n",
    "    returns:\n",
    "    \n",
    "        A list of item IDs and item descriptions for a particular customer that were already purchased in the training set\n",
    "    '''\n",
    "    cust_ind = np.where(customers_list == customer_id)[0][0] # Returns the index row of our customer id\n",
    "    purchased_ind = user_item_train[cust_ind,:].nonzero()[1] # Get column indices of purchased items\n",
    "    prod_codes = products_list[purchased_ind] # Get the stock codes for our purchased items\n",
    "    return item_lookup.loc[item_lookup.StockCode.isin(prod_codes)]\n",
    "\n",
    "def recommend_for_one_user(customer_id, customers_list, model, user_item_train, item_lookup, user_item_df, item_id:str = 'StockCode'):\n",
    "    '''\n",
    "    This function retrieves the recommendation items for a single user. \n",
    "    \n",
    "    parameters: \n",
    "    \n",
    "        customer_id - Input the customer's id number that you want to see recommendations\n",
    "        \n",
    "        customers_list - The array of customers used in the ratings matrix\n",
    "        \n",
    "        model - the implicit model object\n",
    "        \n",
    "        user_item_train - The initial ratings training set used (without weights applied)\n",
    "        \n",
    "        item_lookup - A simple pandas dataframe of the unique product ID/product descriptions available\n",
    "\n",
    "        user_item_df - The df that contains the original index for user item records\n",
    "\n",
    "        item_id - The column name for the item id\n",
    "    \n",
    "    returns:\n",
    "    \n",
    "        A list of item IDs, item descriptions, and scores in desc order for a particular customer\n",
    "    '''\n",
    "    cust_ind = np.where(customers_list == customer_id)[0][0] # Returns the index row of our customer id\n",
    "    # Use the implicit recommender.\n",
    "    recommended = model.recommend(cust_ind, user_item_train)\n",
    "\n",
    "    item_codes = [user_item_df.loc[item[0],item_id] for item in recommended]\n",
    "    scores = [item[1] for item in recommended]\n",
    "\n",
    "    score_df = pd.DataFrame({item_id: item_codes, 'Score': scores})\n",
    "    items = item_desc.loc[item_lookup[item_id].isin(item_codes)]\n",
    "    recommendations = score_df.merge(items,on=item_id)\n",
    "    return recommendations\n"
   ]
  },
  {
   "cell_type": "markdown",
   "metadata": {},
   "source": [
    "## 1. Pre-processing"
   ]
  },
  {
   "cell_type": "markdown",
   "metadata": {},
   "source": [
    "### 1.1 Check the cleaned data"
   ]
  },
  {
   "cell_type": "code",
   "execution_count": 3,
   "metadata": {},
   "outputs": [
    {
     "name": "stdout",
     "output_type": "stream",
     "text": [
      "(331442, 8)\n",
      "InvoiceNo               int64\n",
      "StockCode              object\n",
      "Description            object\n",
      "Quantity                int64\n",
      "InvoiceDate    datetime64[ns]\n",
      "UnitPrice             float64\n",
      "CustomerID              int64\n",
      "Country                object\n",
      "dtype: object\n"
     ]
    },
    {
     "data": {
      "text/html": [
       "<div>\n",
       "<style scoped>\n",
       "    .dataframe tbody tr th:only-of-type {\n",
       "        vertical-align: middle;\n",
       "    }\n",
       "\n",
       "    .dataframe tbody tr th {\n",
       "        vertical-align: top;\n",
       "    }\n",
       "\n",
       "    .dataframe thead th {\n",
       "        text-align: right;\n",
       "    }\n",
       "</style>\n",
       "<table border=\"1\" class=\"dataframe\">\n",
       "  <thead>\n",
       "    <tr style=\"text-align: right;\">\n",
       "      <th></th>\n",
       "      <th>InvoiceNo</th>\n",
       "      <th>StockCode</th>\n",
       "      <th>Description</th>\n",
       "      <th>Quantity</th>\n",
       "      <th>InvoiceDate</th>\n",
       "      <th>UnitPrice</th>\n",
       "      <th>CustomerID</th>\n",
       "      <th>Country</th>\n",
       "    </tr>\n",
       "  </thead>\n",
       "  <tbody>\n",
       "    <tr>\n",
       "      <th>0</th>\n",
       "      <td>536365</td>\n",
       "      <td>85123A</td>\n",
       "      <td>WHITE HANGING HEART T-LIGHT HOLDER</td>\n",
       "      <td>6</td>\n",
       "      <td>2010-12-01 08:26:00</td>\n",
       "      <td>2.55</td>\n",
       "      <td>17850</td>\n",
       "      <td>United Kingdom</td>\n",
       "    </tr>\n",
       "    <tr>\n",
       "      <th>1</th>\n",
       "      <td>536365</td>\n",
       "      <td>71053</td>\n",
       "      <td>WHITE METAL LANTERN</td>\n",
       "      <td>6</td>\n",
       "      <td>2010-12-01 08:26:00</td>\n",
       "      <td>3.39</td>\n",
       "      <td>17850</td>\n",
       "      <td>United Kingdom</td>\n",
       "    </tr>\n",
       "    <tr>\n",
       "      <th>2</th>\n",
       "      <td>536365</td>\n",
       "      <td>84406B</td>\n",
       "      <td>CREAM CUPID HEARTS COAT HANGER</td>\n",
       "      <td>8</td>\n",
       "      <td>2010-12-01 08:26:00</td>\n",
       "      <td>2.75</td>\n",
       "      <td>17850</td>\n",
       "      <td>United Kingdom</td>\n",
       "    </tr>\n",
       "  </tbody>\n",
       "</table>\n",
       "</div>"
      ],
      "text/plain": [
       "   InvoiceNo StockCode                         Description  Quantity  \\\n",
       "0     536365    85123A  WHITE HANGING HEART T-LIGHT HOLDER         6   \n",
       "1     536365     71053                 WHITE METAL LANTERN         6   \n",
       "2     536365    84406B      CREAM CUPID HEARTS COAT HANGER         8   \n",
       "\n",
       "          InvoiceDate  UnitPrice  CustomerID         Country  \n",
       "0 2010-12-01 08:26:00       2.55       17850  United Kingdom  \n",
       "1 2010-12-01 08:26:00       3.39       17850  United Kingdom  \n",
       "2 2010-12-01 08:26:00       2.75       17850  United Kingdom  "
      ]
     },
     "execution_count": 3,
     "metadata": {},
     "output_type": "execute_result"
    }
   ],
   "source": [
    "# read input data\n",
    "df= pd.read_excel(\"Online Retail After Cleaning.xlsx\")\n",
    "print(df.shape)\n",
    "print(df.dtypes)\n",
    "# invoice number could contain character\n",
    "df.head(3)"
   ]
  },
  {
   "cell_type": "code",
   "execution_count": 4,
   "metadata": {},
   "outputs": [
    {
     "data": {
      "text/html": [
       "<div>\n",
       "<style scoped>\n",
       "    .dataframe tbody tr th:only-of-type {\n",
       "        vertical-align: middle;\n",
       "    }\n",
       "\n",
       "    .dataframe tbody tr th {\n",
       "        vertical-align: top;\n",
       "    }\n",
       "\n",
       "    .dataframe thead th {\n",
       "        text-align: right;\n",
       "    }\n",
       "</style>\n",
       "<table border=\"1\" class=\"dataframe\">\n",
       "  <thead>\n",
       "    <tr style=\"text-align: right;\">\n",
       "      <th></th>\n",
       "      <th>InvoiceNo</th>\n",
       "      <th>Quantity</th>\n",
       "      <th>UnitPrice</th>\n",
       "      <th>CustomerID</th>\n",
       "    </tr>\n",
       "  </thead>\n",
       "  <tbody>\n",
       "    <tr>\n",
       "      <th>count</th>\n",
       "      <td>331442.000000</td>\n",
       "      <td>331442.000000</td>\n",
       "      <td>331442.000000</td>\n",
       "      <td>331442.000000</td>\n",
       "    </tr>\n",
       "    <tr>\n",
       "      <th>mean</th>\n",
       "      <td>560831.914223</td>\n",
       "      <td>7.538975</td>\n",
       "      <td>2.099396</td>\n",
       "      <td>15326.786943</td>\n",
       "    </tr>\n",
       "    <tr>\n",
       "      <th>std</th>\n",
       "      <td>13144.721504</td>\n",
       "      <td>6.794875</td>\n",
       "      <td>1.413986</td>\n",
       "      <td>1712.035802</td>\n",
       "    </tr>\n",
       "    <tr>\n",
       "      <th>min</th>\n",
       "      <td>536365.000000</td>\n",
       "      <td>1.000000</td>\n",
       "      <td>0.001000</td>\n",
       "      <td>12347.000000</td>\n",
       "    </tr>\n",
       "    <tr>\n",
       "      <th>25%</th>\n",
       "      <td>549302.000000</td>\n",
       "      <td>2.000000</td>\n",
       "      <td>1.250000</td>\n",
       "      <td>13993.000000</td>\n",
       "    </tr>\n",
       "    <tr>\n",
       "      <th>50%</th>\n",
       "      <td>562213.000000</td>\n",
       "      <td>6.000000</td>\n",
       "      <td>1.650000</td>\n",
       "      <td>15249.000000</td>\n",
       "    </tr>\n",
       "    <tr>\n",
       "      <th>75%</th>\n",
       "      <td>572306.000000</td>\n",
       "      <td>12.000000</td>\n",
       "      <td>2.950000</td>\n",
       "      <td>16824.000000</td>\n",
       "    </tr>\n",
       "    <tr>\n",
       "      <th>max</th>\n",
       "      <td>581587.000000</td>\n",
       "      <td>27.000000</td>\n",
       "      <td>6.000000</td>\n",
       "      <td>18287.000000</td>\n",
       "    </tr>\n",
       "  </tbody>\n",
       "</table>\n",
       "</div>"
      ],
      "text/plain": [
       "           InvoiceNo       Quantity      UnitPrice     CustomerID\n",
       "count  331442.000000  331442.000000  331442.000000  331442.000000\n",
       "mean   560831.914223       7.538975       2.099396   15326.786943\n",
       "std     13144.721504       6.794875       1.413986    1712.035802\n",
       "min    536365.000000       1.000000       0.001000   12347.000000\n",
       "25%    549302.000000       2.000000       1.250000   13993.000000\n",
       "50%    562213.000000       6.000000       1.650000   15249.000000\n",
       "75%    572306.000000      12.000000       2.950000   16824.000000\n",
       "max    581587.000000      27.000000       6.000000   18287.000000"
      ]
     },
     "execution_count": 4,
     "metadata": {},
     "output_type": "execute_result"
    }
   ],
   "source": [
    "# check the cleaned data\n",
    "df.describe()"
   ]
  },
  {
   "cell_type": "code",
   "execution_count": 5,
   "metadata": {},
   "outputs": [
    {
     "name": "stdout",
     "output_type": "stream",
     "text": [
      "2010-12-01 08:26:00 2011-12-09 12:50:00\n"
     ]
    }
   ],
   "source": [
    "# find out data time range\n",
    "print(df['InvoiceDate'].min(),df['InvoiceDate'].max())"
   ]
  },
  {
   "cell_type": "code",
   "execution_count": 6,
   "metadata": {},
   "outputs": [
    {
     "data": {
      "text/plain": [
       "count    3291.000000\n",
       "mean      100.711638\n",
       "std       151.249657\n",
       "min         1.000000\n",
       "25%        11.000000\n",
       "50%        44.000000\n",
       "75%       127.000000\n",
       "max      1686.000000\n",
       "Name: InvoiceNo, dtype: float64"
      ]
     },
     "execution_count": 6,
     "metadata": {},
     "output_type": "execute_result"
    }
   ],
   "source": [
    "# check item count\n",
    "item_count = df.groupby('StockCode').count()\n",
    "item_count.reset_index(inplace=True)\n",
    "item_count['InvoiceNo'].describe()"
   ]
  },
  {
   "cell_type": "code",
   "execution_count": 7,
   "metadata": {},
   "outputs": [
    {
     "data": {
      "text/plain": [
       "count    16720.000000\n",
       "mean        19.823086\n",
       "std         22.891105\n",
       "min          1.000000\n",
       "25%          6.000000\n",
       "50%         14.000000\n",
       "75%         25.000000\n",
       "max        424.000000\n",
       "Name: StockCode, dtype: float64"
      ]
     },
     "execution_count": 7,
     "metadata": {},
     "output_type": "execute_result"
    }
   ],
   "source": [
    "user_order_count = df.groupby(['CustomerID','InvoiceNo']).count()\n",
    "user_order_count.reset_index(inplace=True)\n",
    "user_order_count['StockCode'].describe()"
   ]
  },
  {
   "cell_type": "markdown",
   "metadata": {},
   "source": [
    "### 1.2 Prepare the data for Collaborative Filtering model"
   ]
  },
  {
   "cell_type": "code",
   "execution_count": 8,
   "metadata": {},
   "outputs": [
    {
     "data": {
      "text/html": [
       "<div>\n",
       "<style scoped>\n",
       "    .dataframe tbody tr th:only-of-type {\n",
       "        vertical-align: middle;\n",
       "    }\n",
       "\n",
       "    .dataframe tbody tr th {\n",
       "        vertical-align: top;\n",
       "    }\n",
       "\n",
       "    .dataframe thead th {\n",
       "        text-align: right;\n",
       "    }\n",
       "</style>\n",
       "<table border=\"1\" class=\"dataframe\">\n",
       "  <thead>\n",
       "    <tr style=\"text-align: right;\">\n",
       "      <th></th>\n",
       "      <th>StockCode</th>\n",
       "      <th>Description</th>\n",
       "    </tr>\n",
       "  </thead>\n",
       "  <tbody>\n",
       "    <tr>\n",
       "      <th>3482</th>\n",
       "      <td>90089</td>\n",
       "      <td>PINK CRYSTAL SKULL PHONE CHARM</td>\n",
       "    </tr>\n",
       "    <tr>\n",
       "      <th>3483</th>\n",
       "      <td>84707B</td>\n",
       "      <td>PINK JEWELLED MIRROR TRINKET TRAY</td>\n",
       "    </tr>\n",
       "    <tr>\n",
       "      <th>3484</th>\n",
       "      <td>85123A</td>\n",
       "      <td>CREAM HANGING HEART T-LIGHT HOLDER</td>\n",
       "    </tr>\n",
       "  </tbody>\n",
       "</table>\n",
       "</div>"
      ],
      "text/plain": [
       "     StockCode                         Description\n",
       "3482     90089      PINK CRYSTAL SKULL PHONE CHARM\n",
       "3483    84707B   PINK JEWELLED MIRROR TRINKET TRAY\n",
       "3484    85123A  CREAM HANGING HEART T-LIGHT HOLDER"
      ]
     },
     "execution_count": 8,
     "metadata": {},
     "output_type": "execute_result"
    }
   ],
   "source": [
    "# keep item StockCode and its description for reference\n",
    "item_desc = df[['StockCode', 'Description']].drop_duplicates()\n",
    "item_desc.reset_index(inplace=True,drop=True)\n",
    "item_desc.tail(3)"
   ]
  },
  {
   "cell_type": "code",
   "execution_count": 9,
   "metadata": {},
   "outputs": [
    {
     "data": {
      "text/html": [
       "<div>\n",
       "<style scoped>\n",
       "    .dataframe tbody tr th:only-of-type {\n",
       "        vertical-align: middle;\n",
       "    }\n",
       "\n",
       "    .dataframe tbody tr th {\n",
       "        vertical-align: top;\n",
       "    }\n",
       "\n",
       "    .dataframe thead th {\n",
       "        text-align: right;\n",
       "    }\n",
       "</style>\n",
       "<table border=\"1\" class=\"dataframe\">\n",
       "  <thead>\n",
       "    <tr style=\"text-align: right;\">\n",
       "      <th></th>\n",
       "      <th>CustomerID</th>\n",
       "      <th>Quantity</th>\n",
       "    </tr>\n",
       "  </thead>\n",
       "  <tbody>\n",
       "    <tr>\n",
       "      <th>count</th>\n",
       "      <td>227352.000000</td>\n",
       "      <td>227352.000000</td>\n",
       "    </tr>\n",
       "    <tr>\n",
       "      <th>mean</th>\n",
       "      <td>15301.476789</td>\n",
       "      <td>10.990592</td>\n",
       "    </tr>\n",
       "    <tr>\n",
       "      <th>std</th>\n",
       "      <td>1706.042352</td>\n",
       "      <td>13.736908</td>\n",
       "    </tr>\n",
       "    <tr>\n",
       "      <th>min</th>\n",
       "      <td>12347.000000</td>\n",
       "      <td>1.000000</td>\n",
       "    </tr>\n",
       "    <tr>\n",
       "      <th>25%</th>\n",
       "      <td>13899.000000</td>\n",
       "      <td>3.000000</td>\n",
       "    </tr>\n",
       "    <tr>\n",
       "      <th>50%</th>\n",
       "      <td>15272.000000</td>\n",
       "      <td>6.000000</td>\n",
       "    </tr>\n",
       "    <tr>\n",
       "      <th>75%</th>\n",
       "      <td>16791.000000</td>\n",
       "      <td>12.000000</td>\n",
       "    </tr>\n",
       "    <tr>\n",
       "      <th>max</th>\n",
       "      <td>18287.000000</td>\n",
       "      <td>504.000000</td>\n",
       "    </tr>\n",
       "  </tbody>\n",
       "</table>\n",
       "</div>"
      ],
      "text/plain": [
       "          CustomerID       Quantity\n",
       "count  227352.000000  227352.000000\n",
       "mean    15301.476789      10.990592\n",
       "std      1706.042352      13.736908\n",
       "min     12347.000000       1.000000\n",
       "25%     13899.000000       3.000000\n",
       "50%     15272.000000       6.000000\n",
       "75%     16791.000000      12.000000\n",
       "max     18287.000000     504.000000"
      ]
     },
     "execution_count": 9,
     "metadata": {},
     "output_type": "execute_result"
    }
   ],
   "source": [
    "# build the necessary columns for collaborative filtering\n",
    "df2 = df[['StockCode', 'Quantity', 'CustomerID']]\n",
    "grouped_purchased = df2.groupby(['CustomerID', 'StockCode']).sum().reset_index() # Group together\n",
    "#### !! For the second model, uncomment this line so that we don't use quantity as preference\n",
    "# grouped_purchased['Quantity'] = 1 # don't record the quantity of the items purchased\n",
    "grouped_purchased.describe()"
   ]
  },
  {
   "cell_type": "code",
   "execution_count": 10,
   "metadata": {},
   "outputs": [],
   "source": [
    "# build the user-item matrix for collaborative filtering\n",
    "\n",
    "customers = list(np.sort(grouped_purchased['CustomerID'].unique())) # Get our unique customers\n",
    "products = list(grouped_purchased['StockCode'].unique()) # Get our unique products that were purchased\n",
    "quantity = list(grouped_purchased['Quantity']) # All of our purchases\n",
    "\n",
    "cat_type1 = CategoricalDtype(categories=customers, ordered=False)\n",
    "cat_type2 = CategoricalDtype(categories=products, ordered=False)\n",
    "\n",
    "rows = grouped_purchased['CustomerID'].astype(cat_type1).cat.codes \n",
    "# Get the associated row indices\n",
    "cols = grouped_purchased['StockCode'].astype(cat_type2).cat.codes \n",
    "# Get the associated column indices\n",
    "user_item_all = sparse.csr_matrix((quantity, (rows, cols)), shape=(len(customers), len(products)))"
   ]
  },
  {
   "cell_type": "code",
   "execution_count": 11,
   "metadata": {},
   "outputs": [
    {
     "data": {
      "text/plain": [
       "98.34966666245649"
      ]
     },
     "execution_count": 11,
     "metadata": {},
     "output_type": "execute_result"
    }
   ],
   "source": [
    "# check the sparcity, a maximum of 99.5% is recommended by Jesse Steinweg-Woods\n",
    "matrix_size = user_item_all.shape[0]*user_item_all.shape[1] # Number of possible interactions in the matrix\n",
    "num_purchases = len(user_item_all.nonzero()[0]) # Number of items interacted with\n",
    "sparsity = 100*(1 - (num_purchases/matrix_size))\n",
    "sparsity"
   ]
  },
  {
   "cell_type": "code",
   "execution_count": 12,
   "metadata": {},
   "outputs": [],
   "source": [
    "# split train test dataset\n",
    "user_item_train, user_item_test, selected_user_index = train_test_split(user_item_all, pct_test = 0.33)\n",
    "item_user_train = user_item_train.T.tocsr()\n",
    "item_user_test = user_item_test.T.tocsr()"
   ]
  },
  {
   "cell_type": "markdown",
   "metadata": {},
   "source": [
    "## 2. Build the model"
   ]
  },
  {
   "cell_type": "code",
   "execution_count": 13,
   "metadata": {},
   "outputs": [
    {
     "name": "stderr",
     "output_type": "stream",
     "text": [
      "100%|██████████| 50/50 [00:11<00:00,  4.39it/s]\n"
     ]
    }
   ],
   "source": [
    "# fit the recommendation model\n",
    "\n",
    "# The implicit library expects data as a item-user matrix \n",
    "# so we use item-user matrix for model training\n",
    "# and user-item for recommendations later\n",
    "\n",
    "alpha = 40 # ref: http://yifanhu.net/PUB/cf.pdf\n",
    "model = implicit.als.AlternatingLeastSquares(factors=20, regularization = 0.1, iterations = 50, random_state= 42)\n",
    "model.fit((item_user_train*alpha).astype('double'))"
   ]
  },
  {
   "cell_type": "markdown",
   "metadata": {},
   "source": [
    "## 3. Evaluate the model"
   ]
  },
  {
   "cell_type": "code",
   "execution_count": 14,
   "metadata": {},
   "outputs": [],
   "source": [
    "# Get user and item vectors from our trained model\n",
    "user_vecs, item_vecs = model.user_factors, model.item_factors"
   ]
  },
  {
   "cell_type": "code",
   "execution_count": 15,
   "metadata": {},
   "outputs": [
    {
     "name": "stdout",
     "output_type": "stream",
     "text": [
      "(4186, 3291)\n",
      "(4186, 20)\n",
      "(3291, 20)\n",
      "(4186, 3291)\n"
     ]
    }
   ],
   "source": [
    "# check the dimensions\n",
    "print(user_item_train.shape)\n",
    "print(user_vecs.shape)\n",
    "print(item_vecs.shape)\n",
    "print(user_item_test.shape)"
   ]
  },
  {
   "cell_type": "code",
   "execution_count": 16,
   "metadata": {},
   "outputs": [
    {
     "data": {
      "text/plain": [
       "(0.858, 0.819, 0.874, 0.832)"
      ]
     },
     "execution_count": 16,
     "metadata": {},
     "output_type": "execute_result"
    }
   ],
   "source": [
    "# check the AUC score for this recommender system\n",
    "calc_mean_metrics(user_item_train, selected_user_index, \n",
    "                [sparse.csr_matrix(user_vecs), sparse.csr_matrix(item_vecs.T)], user_item_test, func = auc_score)\n"
   ]
  },
  {
   "cell_type": "markdown",
   "metadata": {},
   "source": [
    "## 4. Examples of recommendations"
   ]
  },
  {
   "cell_type": "code",
   "execution_count": 17,
   "metadata": {},
   "outputs": [
    {
     "data": {
      "text/plain": [
       "array([12347, 12348, 12349, 12350, 12352, 12353, 12354, 12355, 12356,\n",
       "       12357, 12358, 12359, 12360, 12361, 12362, 12363, 12364, 12365,\n",
       "       12367, 12370])"
      ]
     },
     "execution_count": 17,
     "metadata": {},
     "output_type": "execute_result"
    }
   ],
   "source": [
    "customers_arr = np.array(customers) # Array of customer IDs from the ratings matrix\n",
    "products_arr = np.array(products) # Array of product IDs from the ratings matrix\n",
    "customers_arr[:20]"
   ]
  },
  {
   "cell_type": "code",
   "execution_count": 18,
   "metadata": {},
   "outputs": [
    {
     "data": {
      "text/html": [
       "<div>\n",
       "<style scoped>\n",
       "    .dataframe tbody tr th:only-of-type {\n",
       "        vertical-align: middle;\n",
       "    }\n",
       "\n",
       "    .dataframe tbody tr th {\n",
       "        vertical-align: top;\n",
       "    }\n",
       "\n",
       "    .dataframe thead th {\n",
       "        text-align: right;\n",
       "    }\n",
       "</style>\n",
       "<table border=\"1\" class=\"dataframe\">\n",
       "  <thead>\n",
       "    <tr style=\"text-align: right;\">\n",
       "      <th></th>\n",
       "      <th>StockCode</th>\n",
       "      <th>Description</th>\n",
       "    </tr>\n",
       "  </thead>\n",
       "  <tbody>\n",
       "    <tr>\n",
       "      <th>3</th>\n",
       "      <td>84029G</td>\n",
       "      <td>KNITTED UNION FLAG HOT WATER BOTTLE</td>\n",
       "    </tr>\n",
       "    <tr>\n",
       "      <th>88</th>\n",
       "      <td>15056BL</td>\n",
       "      <td>EDWARDIAN PARASOL BLACK</td>\n",
       "    </tr>\n",
       "    <tr>\n",
       "      <th>125</th>\n",
       "      <td>84030E</td>\n",
       "      <td>ENGLISH ROSE HOT WATER BOTTLE</td>\n",
       "    </tr>\n",
       "    <tr>\n",
       "      <th>733</th>\n",
       "      <td>35598B</td>\n",
       "      <td>BLACK CHRISTMAS TREE 60CM</td>\n",
       "    </tr>\n",
       "    <tr>\n",
       "      <th>1185</th>\n",
       "      <td>15056P</td>\n",
       "      <td>EDWARDIAN PARASOL PINK</td>\n",
       "    </tr>\n",
       "    <tr>\n",
       "      <th>1922</th>\n",
       "      <td>85159A</td>\n",
       "      <td>BLACK TEA,COFFEE,SUGAR JARS</td>\n",
       "    </tr>\n",
       "    <tr>\n",
       "      <th>3257</th>\n",
       "      <td>35599B</td>\n",
       "      <td>BLACK CHRISTMAS TREE 120CM</td>\n",
       "    </tr>\n",
       "  </tbody>\n",
       "</table>\n",
       "</div>"
      ],
      "text/plain": [
       "     StockCode                          Description\n",
       "3       84029G  KNITTED UNION FLAG HOT WATER BOTTLE\n",
       "88     15056BL              EDWARDIAN PARASOL BLACK\n",
       "125     84030E        ENGLISH ROSE HOT WATER BOTTLE\n",
       "733     35598B            BLACK CHRISTMAS TREE 60CM\n",
       "1185    15056P               EDWARDIAN PARASOL PINK\n",
       "1922    85159A          BLACK TEA,COFFEE,SUGAR JARS\n",
       "3257    35599B           BLACK CHRISTMAS TREE 120CM"
      ]
     },
     "execution_count": 18,
     "metadata": {},
     "output_type": "execute_result"
    }
   ],
   "source": [
    "userid = 12357\n",
    "# check the items purchased in the training data\n",
    "get_items_purchased(userid, user_item_train, customers_arr, products_arr, item_desc)"
   ]
  },
  {
   "cell_type": "code",
   "execution_count": 19,
   "metadata": {},
   "outputs": [
    {
     "data": {
      "text/html": [
       "<div>\n",
       "<style scoped>\n",
       "    .dataframe tbody tr th:only-of-type {\n",
       "        vertical-align: middle;\n",
       "    }\n",
       "\n",
       "    .dataframe tbody tr th {\n",
       "        vertical-align: top;\n",
       "    }\n",
       "\n",
       "    .dataframe thead th {\n",
       "        text-align: right;\n",
       "    }\n",
       "</style>\n",
       "<table border=\"1\" class=\"dataframe\">\n",
       "  <thead>\n",
       "    <tr style=\"text-align: right;\">\n",
       "      <th></th>\n",
       "      <th>StockCode</th>\n",
       "      <th>Score</th>\n",
       "      <th>Description</th>\n",
       "    </tr>\n",
       "  </thead>\n",
       "  <tbody>\n",
       "    <tr>\n",
       "      <th>0</th>\n",
       "      <td>21106</td>\n",
       "      <td>1.956980</td>\n",
       "      <td>CREAM SLICE FLANNEL CHOCOLATE SPOT</td>\n",
       "    </tr>\n",
       "    <tr>\n",
       "      <th>1</th>\n",
       "      <td>23188</td>\n",
       "      <td>1.795498</td>\n",
       "      <td>VINTAGE  2 METER FOLDING RULER</td>\n",
       "    </tr>\n",
       "    <tr>\n",
       "      <th>2</th>\n",
       "      <td>23188</td>\n",
       "      <td>1.795498</td>\n",
       "      <td>VINTAGE  2 METRE FOLDING RULER</td>\n",
       "    </tr>\n",
       "    <tr>\n",
       "      <th>3</th>\n",
       "      <td>22821</td>\n",
       "      <td>1.634983</td>\n",
       "      <td>GIFT BAG PSYCHEDELIC APPLES</td>\n",
       "    </tr>\n",
       "    <tr>\n",
       "      <th>4</th>\n",
       "      <td>21216</td>\n",
       "      <td>1.626036</td>\n",
       "      <td>SET 3 RETROSPOT TEA,COFFEE,SUGAR</td>\n",
       "    </tr>\n",
       "    <tr>\n",
       "      <th>5</th>\n",
       "      <td>23426</td>\n",
       "      <td>1.576710</td>\n",
       "      <td>METAL SIGN DROP YOUR PANTS</td>\n",
       "    </tr>\n",
       "    <tr>\n",
       "      <th>6</th>\n",
       "      <td>23256</td>\n",
       "      <td>1.566309</td>\n",
       "      <td>CHILDRENS CUTLERY SPACEBOY</td>\n",
       "    </tr>\n",
       "    <tr>\n",
       "      <th>7</th>\n",
       "      <td>23256</td>\n",
       "      <td>1.566309</td>\n",
       "      <td>KIDS CUTLERY SPACEBOY</td>\n",
       "    </tr>\n",
       "    <tr>\n",
       "      <th>8</th>\n",
       "      <td>23256</td>\n",
       "      <td>1.516222</td>\n",
       "      <td>CHILDRENS CUTLERY SPACEBOY</td>\n",
       "    </tr>\n",
       "    <tr>\n",
       "      <th>9</th>\n",
       "      <td>23256</td>\n",
       "      <td>1.516222</td>\n",
       "      <td>KIDS CUTLERY SPACEBOY</td>\n",
       "    </tr>\n",
       "    <tr>\n",
       "      <th>10</th>\n",
       "      <td>22229</td>\n",
       "      <td>1.565780</td>\n",
       "      <td>BUNNY WOODEN PAINTED WITH FLOWER</td>\n",
       "    </tr>\n",
       "    <tr>\n",
       "      <th>11</th>\n",
       "      <td>21770</td>\n",
       "      <td>1.544484</td>\n",
       "      <td>OPEN CLOSED METAL SIGN</td>\n",
       "    </tr>\n",
       "    <tr>\n",
       "      <th>12</th>\n",
       "      <td>22915</td>\n",
       "      <td>1.525988</td>\n",
       "      <td>ASSORTED BOTTLE TOP  MAGNETS</td>\n",
       "    </tr>\n",
       "  </tbody>\n",
       "</table>\n",
       "</div>"
      ],
      "text/plain": [
       "   StockCode     Score                          Description\n",
       "0      21106  1.956980  CREAM SLICE FLANNEL CHOCOLATE SPOT \n",
       "1      23188  1.795498       VINTAGE  2 METER FOLDING RULER\n",
       "2      23188  1.795498       VINTAGE  2 METRE FOLDING RULER\n",
       "3      22821  1.634983          GIFT BAG PSYCHEDELIC APPLES\n",
       "4      21216  1.626036     SET 3 RETROSPOT TEA,COFFEE,SUGAR\n",
       "5      23426  1.576710           METAL SIGN DROP YOUR PANTS\n",
       "6      23256  1.566309          CHILDRENS CUTLERY SPACEBOY \n",
       "7      23256  1.566309               KIDS CUTLERY SPACEBOY \n",
       "8      23256  1.516222          CHILDRENS CUTLERY SPACEBOY \n",
       "9      23256  1.516222               KIDS CUTLERY SPACEBOY \n",
       "10     22229  1.565780    BUNNY WOODEN PAINTED WITH FLOWER \n",
       "11     21770  1.544484               OPEN CLOSED METAL SIGN\n",
       "12     22915  1.525988        ASSORTED BOTTLE TOP  MAGNETS "
      ]
     },
     "execution_count": 19,
     "metadata": {},
     "output_type": "execute_result"
    }
   ],
   "source": [
    "# Create recommendations\n",
    "rec = recommend_for_one_user(userid,customers_arr, model, user_item_train, item_desc, grouped_purchased, item_id = 'StockCode')\n",
    "rec"
   ]
  },
  {
   "cell_type": "code",
   "execution_count": 20,
   "metadata": {},
   "outputs": [
    {
     "data": {
      "text/html": [
       "<div>\n",
       "<style scoped>\n",
       "    .dataframe tbody tr th:only-of-type {\n",
       "        vertical-align: middle;\n",
       "    }\n",
       "\n",
       "    .dataframe tbody tr th {\n",
       "        vertical-align: top;\n",
       "    }\n",
       "\n",
       "    .dataframe thead th {\n",
       "        text-align: right;\n",
       "    }\n",
       "</style>\n",
       "<table border=\"1\" class=\"dataframe\">\n",
       "  <thead>\n",
       "    <tr style=\"text-align: right;\">\n",
       "      <th></th>\n",
       "      <th>index</th>\n",
       "      <th>StockCode</th>\n",
       "      <th>Description</th>\n",
       "    </tr>\n",
       "  </thead>\n",
       "  <tbody>\n",
       "    <tr>\n",
       "      <th>0</th>\n",
       "      <td>270569</td>\n",
       "      <td>22064</td>\n",
       "      <td>PINK DOUGHNUT TRINKET POT</td>\n",
       "    </tr>\n",
       "    <tr>\n",
       "      <th>1</th>\n",
       "      <td>270570</td>\n",
       "      <td>21232</td>\n",
       "      <td>STRAWBERRY CERAMIC TRINKET POT</td>\n",
       "    </tr>\n",
       "    <tr>\n",
       "      <th>2</th>\n",
       "      <td>270571</td>\n",
       "      <td>22067</td>\n",
       "      <td>CHOC TRUFFLE GOLD TRINKET POT</td>\n",
       "    </tr>\n",
       "    <tr>\n",
       "      <th>3</th>\n",
       "      <td>270572</td>\n",
       "      <td>21555</td>\n",
       "      <td>CERAMIC STRAWBERRY TRINKET TRAY</td>\n",
       "    </tr>\n",
       "    <tr>\n",
       "      <th>4</th>\n",
       "      <td>270573</td>\n",
       "      <td>22316</td>\n",
       "      <td>200 BENDY SKULL STRAWS</td>\n",
       "    </tr>\n",
       "    <tr>\n",
       "      <th>...</th>\n",
       "      <td>...</td>\n",
       "      <td>...</td>\n",
       "      <td>...</td>\n",
       "    </tr>\n",
       "    <tr>\n",
       "      <th>89</th>\n",
       "      <td>270658</td>\n",
       "      <td>85159B</td>\n",
       "      <td>WHITE TEA,COFFEE,SUGAR JARS</td>\n",
       "    </tr>\n",
       "    <tr>\n",
       "      <th>90</th>\n",
       "      <td>270659</td>\n",
       "      <td>21216</td>\n",
       "      <td>SET 3 RETROSPOT TEA,COFFEE,SUGAR</td>\n",
       "    </tr>\n",
       "    <tr>\n",
       "      <th>91</th>\n",
       "      <td>270660</td>\n",
       "      <td>23168</td>\n",
       "      <td>CLASSIC CAFE SUGAR DISPENSER</td>\n",
       "    </tr>\n",
       "    <tr>\n",
       "      <th>92</th>\n",
       "      <td>270661</td>\n",
       "      <td>23302</td>\n",
       "      <td>KNEELING MAT HOUSEWORK  DESIGN</td>\n",
       "    </tr>\n",
       "    <tr>\n",
       "      <th>93</th>\n",
       "      <td>270662</td>\n",
       "      <td>21231</td>\n",
       "      <td>SWEETHEART CERAMIC TRINKET BOX</td>\n",
       "    </tr>\n",
       "  </tbody>\n",
       "</table>\n",
       "<p>94 rows × 3 columns</p>\n",
       "</div>"
      ],
      "text/plain": [
       "     index StockCode                       Description\n",
       "0   270569     22064        PINK DOUGHNUT TRINKET POT \n",
       "1   270570     21232    STRAWBERRY CERAMIC TRINKET POT\n",
       "2   270571     22067    CHOC TRUFFLE GOLD TRINKET POT \n",
       "3   270572     21555   CERAMIC STRAWBERRY TRINKET TRAY\n",
       "4   270573     22316            200 BENDY SKULL STRAWS\n",
       "..     ...       ...                               ...\n",
       "89  270658    85159B       WHITE TEA,COFFEE,SUGAR JARS\n",
       "90  270659     21216  SET 3 RETROSPOT TEA,COFFEE,SUGAR\n",
       "91  270660     23168      CLASSIC CAFE SUGAR DISPENSER\n",
       "92  270661     23302    KNEELING MAT HOUSEWORK  DESIGN\n",
       "93  270662     21231    SWEETHEART CERAMIC TRINKET BOX\n",
       "\n",
       "[94 rows x 3 columns]"
      ]
     },
     "execution_count": 20,
     "metadata": {},
     "output_type": "execute_result"
    }
   ],
   "source": [
    "# check what the user bought in original data\n",
    "df.loc[(df['CustomerID']==userid),['StockCode','Description']].drop_duplicates().reset_index()"
   ]
  },
  {
   "cell_type": "code",
   "execution_count": null,
   "metadata": {},
   "outputs": [],
   "source": []
  }
 ],
 "metadata": {
  "interpreter": {
   "hash": "8a8aae57b0306676f860924a64ec94dc6986e0314e68d24cb48a5494fbe60817"
  },
  "kernelspec": {
   "display_name": "Python 3.9.7 64-bit ('py39': conda)",
   "language": "python",
   "name": "python3"
  },
  "language_info": {
   "codemirror_mode": {
    "name": "ipython",
    "version": 3
   },
   "file_extension": ".py",
   "mimetype": "text/x-python",
   "name": "python",
   "nbconvert_exporter": "python",
   "pygments_lexer": "ipython3",
   "version": "3.9.7"
  },
  "orig_nbformat": 4
 },
 "nbformat": 4,
 "nbformat_minor": 2
}
